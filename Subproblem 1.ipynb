{
 "cells": [
  {
   "cell_type": "markdown",
   "id": "19d79830",
   "metadata": {},
   "source": [
    "### Регулярное выражение для выделения в отдельные токены знаки препинания, числа и слова.     \n",
    "\n",
    "Соберем регулярное выражение так, чтобы оно выделяло в отдельные токены знаки препинания, числа и слова.     "
   ]
  },
  {
   "cell_type": "code",
   "execution_count": 1,
   "id": "ade9faa9",
   "metadata": {},
   "outputs": [
    {
     "name": "stdout",
     "output_type": "stream",
     "text": [
      "значение числа е = 2.7182 .\n"
     ]
    }
   ],
   "source": [
    "# [а-яё]+          // ненулевая последовательность любых букв русского алфавита.\n",
    "# -?\\d*[.,]?\\d+   // возможно знак, возможная целая часть числа, возможно, десятичный знак и остальная часть числа.\n",
    "# \\S                // любой символ, кроме разделителей (пробелов, переносов строк)\n",
    "# |     //  | отвечает за выбор из двух паттернов, например: [а-яё]+|\\d последовательность букв или одна цифра.\n",
    "\n",
    "lines = [\"Контактный телефон: 123123.\"]\n",
    "lines = [\"Что-нибудь надо придумать.\"]\n",
    "lines = [\"Значение числа Е=2.7182.\"]\n",
    "# lines = [\"\"]\n",
    "# lines = [\"\"]\n",
    "# lines = [\"\"]\n",
    "# lines = [\"\"]\n",
    "\n",
    "import re\n",
    "import sys\n",
    "\n",
    "TOKENIZE_RE = re.compile(r'[а-яё]+|-?\\d*[.,]?\\d+|\\S', re.I)\n",
    "\n",
    "\n",
    "def tokenize(txt):\n",
    "    return TOKENIZE_RE.findall(txt)\n",
    "\n",
    "\n",
    "for line in lines:\n",
    "    print(' '.join(tokenize(line.strip().lower())))"
   ]
  },
  {
   "cell_type": "code",
   "execution_count": null,
   "id": "7b24ba52",
   "metadata": {},
   "outputs": [],
   "source": []
  }
 ],
 "metadata": {
  "kernelspec": {
   "display_name": "Python 3 (ipykernel)",
   "language": "python",
   "name": "python3"
  },
  "language_info": {
   "codemirror_mode": {
    "name": "ipython",
    "version": 3
   },
   "file_extension": ".py",
   "mimetype": "text/x-python",
   "name": "python",
   "nbconvert_exporter": "python",
   "pygments_lexer": "ipython3",
   "version": "3.10.8"
  }
 },
 "nbformat": 4,
 "nbformat_minor": 5
}
