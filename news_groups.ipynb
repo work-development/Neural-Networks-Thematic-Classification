{
 "cells": [
  {
   "cell_type": "markdown",
   "metadata": {
    "id": "CaMtVGcsJeg5"
   },
   "source": [
    "# Тематическая классификация длинных текстов - TFIDF и LogReg"
   ]
  },
  {
   "cell_type": "code",
   "execution_count": null,
   "metadata": {
    "ExecuteTime": {
     "end_time": "2019-09-12T12:42:57.265628Z",
     "start_time": "2019-09-12T12:42:55.188211Z"
    },
    "id": "hvuxwBReJeg9"
   },
   "outputs": [],
   "source": [
    "import warnings\n",
    "warnings.filterwarnings('ignore')\n",
    "\n",
    "from sklearn.datasets import fetch_20newsgroups\n",
    "from sklearn.metrics import accuracy_score\n",
    "\n",
    "import numpy as np\n",
    "\n",
    "import matplotlib.pyplot as plt\n",
    "%matplotlib inline\n",
    "\n",
    "import collections\n",
    "\n",
    "import torch\n",
    "from torch import nn\n",
    "from torch.nn import functional as F\n",
    "\n"
   ]
  },
  {
   "cell_type": "code",
   "execution_count": null,
   "metadata": {
    "id": "Od7FtwqYdXKm"
   },
   "outputs": [],
   "source": [
    "import dlnlputils\n",
    "from dlnlputils.data import tokenize_text_simple_regex, tokenize_corpus, build_vocabulary, \\\n",
    "    vectorize_texts, SparseFeaturesDataset\n",
    "from dlnlputils.pipeline import train_eval_loop, predict_with_model, init_random_seed\n",
    "\n",
    "init_random_seed()"
   ]
  },
  {
   "cell_type": "markdown",
   "metadata": {
    "id": "jYS1EkyGJeg_"
   },
   "source": [
    "## Предобработка текстов и подготовка признаков"
   ]
  },
  {
   "cell_type": "code",
   "execution_count": null,
   "metadata": {
    "ExecuteTime": {
     "end_time": "2019-09-12T12:42:57.847399Z",
     "start_time": "2019-09-12T12:42:57.268037Z"
    },
    "colab": {
     "base_uri": "https://localhost:8080/"
    },
    "id": "xeYHjmIEJeg_",
    "outputId": "17d58c64-e92f-42f8-fbb7-0ac7e39a2230"
   },
   "outputs": [
    {
     "name": "stdout",
     "output_type": "stream",
     "text": [
      "Количество обучающих текстов 11314\n",
      "Количество тестовых текстов 7532\n",
      "\n",
      "From: lerxst@wam.umd.edu (where's my thing)\n",
      "Subject: WHAT car is this!?\n",
      "Nntp-Posting-Host: rac3.wam.umd.edu\n",
      "Organization: University of Maryland, College Park\n",
      "Lines: 15\n",
      "\n",
      " I was wondering if anyone out there could enlighten me on this car I saw\n",
      "the other day. It was a 2-door sports car, looked to be from the late 60s/\n",
      "early 70s. It was called a Bricklin. The doors were really small. In addition,\n",
      "the front bumper was separate from the rest of the body. This is \n",
      "all I know. If anyone can tellme a model name, engine specs, years\n",
      "of production, where this car is made, history, or whatever info you\n",
      "have on this funky looking car, please e-mail.\n",
      "\n",
      "Thanks,\n",
      "- IL\n",
      "   ---- brought to you by your neighborhood Lerxst ----\n",
      "\n",
      "Метка 7\n"
     ]
    }
   ],
   "source": [
    "train_source = fetch_20newsgroups(subset='train')\n",
    "test_source = fetch_20newsgroups(subset='test')\n",
    "\n",
    "print('Количество обучающих текстов', len(train_source['data']))\n",
    "print('Количество тестовых текстов', len(test_source['data']))\n",
    "print()\n",
    "print(train_source['data'][0].strip())\n",
    "\n",
    "print()\n",
    "print('Метка', train_source['target'][0])"
   ]
  },
  {
   "cell_type": "markdown",
   "metadata": {
    "id": "s_lN1jLiJehA"
   },
   "source": [
    "## Подготовка признаков"
   ]
  },
  {
   "cell_type": "markdown",
   "metadata": {
    "id": "tASW6VYfDLVO"
   },
   "source": [
    "Получим две прямоугольные матрицы, строки которых соответствуют текстам, а столбцы — признакам. Две матрицы — потому, что две подвыборки — обучающая и тестовая."
   ]
  },
  {
   "cell_type": "code",
   "execution_count": null,
   "metadata": {
    "ExecuteTime": {
     "end_time": "2019-09-12T12:43:00.294422Z",
     "start_time": "2019-09-12T12:42:57.849386Z"
    },
    "colab": {
     "base_uri": "https://localhost:8080/"
    },
    "id": "UFZtX2U7JehA",
    "outputId": "801006a5-d72c-46ec-fe4f-c40cc556d283"
   },
   "outputs": [
    {
     "name": "stdout",
     "output_type": "stream",
     "text": [
      "from lerxst where thing subject what this nntp posting host rac3 organization university maryland college park lines wondering anyone there could enlighten this other door sports looked from late early called bricklin doors were really small addition front bumper separate from rest body this know anyone tellme model name engine specs years production where this made history whatever info have this funky looking please mail thanks brought your neighborhood lerxst\n"
     ]
    }
   ],
   "source": [
    "train_tokenized = tokenize_corpus(train_source['data'])\n",
    "test_tokenized = tokenize_corpus(test_source['data'])\n",
    "\n",
    "print(' '.join(train_tokenized[0]))"
   ]
  },
  {
   "cell_type": "markdown",
   "metadata": {
    "id": "1-PFQZ5_EFfd"
   },
   "source": [
    "### Построение словаря     \n",
    "\n",
    "Построим отображение из строкового представления токена в его номер. Для построения словаря мы используем только обучающую подвыборку."
   ]
  },
  {
   "cell_type": "code",
   "execution_count": null,
   "metadata": {
    "ExecuteTime": {
     "end_time": "2019-09-12T12:43:00.825372Z",
     "start_time": "2019-09-12T12:43:00.297392Z"
    },
    "colab": {
     "base_uri": "https://localhost:8080/"
    },
    "id": "tkc5pNODJehB",
    "outputId": "75049da8-e859-4b03-ae07-d8899d0b7927"
   },
   "outputs": [
    {
     "name": "stdout",
     "output_type": "stream",
     "text": [
      "Количество уникальных токенов 21628\n",
      "[('that', 0), ('this', 1), ('have', 2), ('with', 3), ('writes', 4), ('article', 5), ('posting', 6), ('host', 7), ('nntp', 8), ('there', 9)]\n"
     ]
    }
   ],
   "source": [
    "MAX_DF = 0.8\n",
    "MIN_COUNT = 5\n",
    "vocabulary, word_doc_freq = build_vocabulary(train_tokenized, max_doc_freq=MAX_DF, min_count=MIN_COUNT)\n",
    "UNIQUE_WORDS_N = len(vocabulary)\n",
    "print('Количество уникальных токенов', UNIQUE_WORDS_N)\n",
    "print(list(vocabulary.items())[:10])"
   ]
  },
  {
   "cell_type": "markdown",
   "metadata": {
    "id": "WZqHlenebS2X"
   },
   "source": [
    "### Закон Ципфа"
   ]
  },
  {
   "cell_type": "code",
   "execution_count": null,
   "metadata": {
    "ExecuteTime": {
     "end_time": "2019-09-12T12:43:01.524600Z",
     "start_time": "2019-09-12T12:43:00.829107Z"
    },
    "colab": {
     "base_uri": "https://localhost:8080/",
     "height": 452
    },
    "id": "Kfh30c1AJehC",
    "outputId": "804ac69f-383b-4e29-b696-32564f92a4a8"
   },
   "outputs": [
    {
     "data": {
      "image/png": "[encoded data removed]",
      "text/plain": [
       "<Figure size 640x480 with 1 Axes>"
      ]
     },
     "metadata": {},
     "output_type": "display_data"
    }
   ],
   "source": [
    "plt.hist(word_doc_freq, bins=20)\n",
    "plt.title('Распределение относительных частот слов')\n",
    "plt.yscale('log');"
   ]
  },
  {
   "cell_type": "markdown",
   "metadata": {
    "id": "LeTFoIYL-u-g"
   },
   "source": [
    "Вывод: токенов, которые встретились хотя бы в половине документов обучающей выборки — очень мало (кажется, их даже меньше десяти суммарно). Токенов, которые встретились хотя бы в 10% обучающей выборки — побольше, это уже число порядка нескольких сотен. Мода распределения находится около нуля, то есть большая часть слов (а именно, порядка 10000 уникальных токенов) встречаются менее, чем в 5% процентах документов. Закон Ципфа действительно выполняется."
   ]
  },
  {
   "cell_type": "code",
   "execution_count": null,
   "metadata": {
    "ExecuteTime": {
     "end_time": "2019-09-12T12:44:16.094816Z",
     "start_time": "2019-09-12T12:43:01.526554Z"
    },
    "colab": {
     "base_uri": "https://localhost:8080/"
    },
    "id": "lo6dTrEMJehC",
    "outputId": "ce414267-9f30-4966-ff91-a70ceb29bbd1"
   },
   "outputs": [
    {
     "name": "stdout",
     "output_type": "stream",
     "text": [
      "Размерность матрицы признаков обучающей выборки (11314, 21628)\n",
      "Размерность матрицы признаков тестовой выборки (7532, 21628)\n",
      "\n",
      "Количество ненулевых элементов в обучающей выборке 1126792\n",
      "Процент заполненности матрицы признаков 0.46%\n",
      "\n",
      "Количество ненулевых элементов в тестовой выборке 721529\n",
      "Процент заполненности матрицы признаков 0.44%\n"
     ]
    }
   ],
   "source": [
    "VECTORIZATION_MODE = 'tfidf'\n",
    "train_vectors = vectorize_texts(train_tokenized, vocabulary, word_doc_freq, mode=VECTORIZATION_MODE)\n",
    "test_vectors = vectorize_texts(test_tokenized, vocabulary, word_doc_freq, mode=VECTORIZATION_MODE)\n",
    "\n",
    "print('Размерность матрицы признаков обучающей выборки', train_vectors.shape)\n",
    "print('Размерность матрицы признаков тестовой выборки', test_vectors.shape)\n",
    "print()\n",
    "print('Количество ненулевых элементов в обучающей выборке', train_vectors.nnz)\n",
    "print('Процент заполненности матрицы признаков {:.2f}%'.format(train_vectors.nnz * 100 / (train_vectors.shape[0] * train_vectors.shape[1])))\n",
    "print()\n",
    "print('Количество ненулевых элементов в тестовой выборке', test_vectors.nnz)\n",
    "print('Процент заполненности матрицы признаков {:.2f}%'.format(test_vectors.nnz * 100 / (test_vectors.shape[0] * test_vectors.shape[1])))"
   ]
  },
  {
   "cell_type": "code",
   "execution_count": null,
   "metadata": {
    "ExecuteTime": {
     "end_time": "2019-09-12T12:44:16.857114Z",
     "start_time": "2019-09-12T12:44:16.098773Z"
    },
    "colab": {
     "base_uri": "https://localhost:8080/",
     "height": 452
    },
    "id": "pBeqqedhJehD",
    "outputId": "163bbaa0-541b-400e-9efa-d9f8a739abc7"
   },
   "outputs": [
    {
     "data": {
      "image/png": "[encoded data removed]",
      "text/plain": [
       "<Figure size 640x480 with 1 Axes>"
      ]
     },
     "metadata": {},
     "output_type": "display_data"
    }
   ],
   "source": [
    "plt.hist(train_vectors.data, bins=20)\n",
    "plt.title('Распределение весов признаков')\n",
    "plt.yscale('log');"
   ]
  },
  {
   "cell_type": "markdown",
   "metadata": {
    "id": "T_lL8nPpJehD"
   },
   "source": [
    "### Распределение классов"
   ]
  },
  {
   "cell_type": "code",
   "execution_count": null,
   "metadata": {
    "ExecuteTime": {
     "end_time": "2019-09-12T12:44:16.864960Z",
     "start_time": "2019-09-12T12:44:16.859476Z"
    },
    "colab": {
     "base_uri": "https://localhost:8080/"
    },
    "id": "rbRWATgzJehD",
    "outputId": "fc30c49a-36a1-459e-ac92-65aab7385928"
   },
   "outputs": [
    {
     "name": "stdout",
     "output_type": "stream",
     "text": [
      "Количество уникальных меток 20\n"
     ]
    }
   ],
   "source": [
    "UNIQUE_LABELS_N = len(set(train_source['target']))\n",
    "print('Количество уникальных меток', UNIQUE_LABELS_N)"
   ]
  },
  {
   "cell_type": "code",
   "execution_count": null,
   "metadata": {
    "ExecuteTime": {
     "end_time": "2019-09-12T12:44:17.106036Z",
     "start_time": "2019-09-12T12:44:16.867310Z"
    },
    "colab": {
     "base_uri": "https://localhost:8080/",
     "height": 452
    },
    "id": "K2m921GxJehE",
    "outputId": "7d1b0d84-5cee-4071-a38e-7b1f33c0322d"
   },
   "outputs": [
    {
     "data": {
      "image/png": "[encoded data removed]",
      "text/plain": [
       "<Figure size 640x480 with 1 Axes>"
      ]
     },
     "metadata": {},
     "output_type": "display_data"
    }
   ],
   "source": [
    "plt.hist(train_source['target'], bins=np.arange(0, 21))\n",
    "plt.title('Распределение меток в обучающей выборке');"
   ]
  },
  {
   "cell_type": "markdown",
   "metadata": {
    "id": "6iOU7QZO3peA"
   },
   "source": [
    "Вывод: классы в обучающей выборке распределены равномерно. Следовательно можем использовать accuracy как рабочую метрику."
   ]
  },
  {
   "cell_type": "code",
   "execution_count": null,
   "metadata": {
    "ExecuteTime": {
     "end_time": "2019-09-12T12:44:17.312198Z",
     "start_time": "2019-09-12T12:44:17.109884Z"
    },
    "colab": {
     "base_uri": "https://localhost:8080/",
     "height": 452
    },
    "id": "IkKcp9Z6JehE",
    "outputId": "d786d2ad-f46a-406d-9b31-c8a280264b3e",
    "scrolled": true
   },
   "outputs": [
    {
     "data": {
      "image/png": "[encoded data removed]",
      "text/plain": [
       "<Figure size 640x480 with 1 Axes>"
      ]
     },
     "metadata": {},
     "output_type": "display_data"
    }
   ],
   "source": [
    "plt.hist(test_source['target'], bins=np.arange(0, 21))\n",
    "plt.title('Распределение меток в тестовой выборке');"
   ]
  },
  {
   "cell_type": "markdown",
   "metadata": {
    "id": "Gh9efBeq3yMX"
   },
   "source": [
    "Вывод: классы в тестовой выборке распределены равномерно. Следовательно можем использовать accuracy как рабочую метрику."
   ]
  },
  {
   "cell_type": "markdown",
   "metadata": {
    "id": "lvZNnDmZJehE"
   },
   "source": [
    "### PyTorch Dataset    \n",
    "\n",
    "Обернём матрицы признаков в Dataset"
   ]
  },
  {
   "cell_type": "code",
   "execution_count": null,
   "metadata": {
    "colab": {
     "base_uri": "https://localhost:8080/"
    },
    "id": "hNEtKfhM1dsK",
    "outputId": "94099421-c432-481d-bb24-1672c600564e"
   },
   "outputs": [
    {
     "data": {
      "text/plain": [
       "<11314x21628 sparse matrix of type '<class 'numpy.float32'>'\n",
       "\twith 1126792 stored elements in Compressed Sparse Row format>"
      ]
     },
     "execution_count": 32,
     "metadata": {},
     "output_type": "execute_result"
    }
   ],
   "source": [
    "train_vectors"
   ]
  },
  {
   "cell_type": "markdown",
   "metadata": {
    "id": "NqQ1j_QnQ3Xg"
   },
   "source": [
    "Обернём наши матрицы признаков в \"Dataset\" для удобства подключения различных датасетов, которые могут подгружаться с жёсткого диска, из памяти; загружаться сразу все — в память, или читаться по чуть-чуть."
   ]
  },
  {
   "cell_type": "code",
   "execution_count": null,
   "metadata": {
    "ExecuteTime": {
     "end_time": "2019-09-12T12:44:17.319292Z",
     "start_time": "2019-09-12T12:44:17.315074Z"
    },
    "id": "QXoGakkVJehF"
   },
   "outputs": [],
   "source": [
    "train_dataset = SparseFeaturesDataset(train_vectors, train_source['target'])\n",
    "test_dataset = SparseFeaturesDataset(test_vectors, test_source['target'])"
   ]
  },
  {
   "cell_type": "markdown",
   "metadata": {
    "id": "lGrChiuTJehF"
   },
   "source": [
    "## Обучение модели на PyTorch    \n",
    "\n",
    "Наша моель - это Логистическая регрессия то есть линейная регрессия выход которой сжимается в диапазон от 0 до 1 с помощью сигмоиды. Таким образом, наша модель состоит из одного слоя - это линейный слой у которого количество входов соответствуюет количеству уникальных токенов (размеру словаря) и количество выходов соответствует количеству меток в датасете."
   ]
  },
  {
   "cell_type": "code",
   "execution_count": null,
   "metadata": {
    "ExecuteTime": {
     "end_time": "2019-09-12T12:46:22.371272Z",
     "start_time": "2019-09-12T12:44:17.322178Z"
    },
    "colab": {
     "base_uri": "https://localhost:8080/"
    },
    "id": "cgv0HPAHJehG",
    "outputId": "7ceff3a1-c471-445b-a487-7647bcc34441",
    "scrolled": false
   },
   "outputs": [
    {
     "name": "stdout",
     "output_type": "stream",
     "text": [
      "Эпоха 0\n",
      "Эпоха: 354 итераций, 4.73 сек\n",
      "Среднее значение функции потерь на обучении 2.225259538424217\n",
      "Среднее значение функции потерь на валидации 2.113698325924954\n",
      "Новая лучшая модель!\n",
      "\n",
      "Эпоха 1\n",
      "Эпоха: 354 итераций, 1.83 сек\n",
      "Среднее значение функции потерь на обучении 0.9165939040439951\n",
      "Среднее значение функции потерь на валидации 1.6821929110308824\n",
      "Новая лучшая модель!\n",
      "\n",
      "Эпоха 2\n",
      "Эпоха: 354 итераций, 2.57 сек\n",
      "Среднее значение функции потерь на обучении 0.46601886163323614\n",
      "Среднее значение функции потерь на валидации 1.4643885553893397\n",
      "Новая лучшая модель!\n",
      "\n",
      "Эпоха 3\n",
      "Эпоха: 354 итераций, 1.82 сек\n",
      "Среднее значение функции потерь на обучении 0.2836371472915687\n",
      "Среднее значение функции потерь на валидации 1.3450354191206269\n",
      "Новая лучшая модель!\n",
      "\n",
      "Эпоха 4\n",
      "Эпоха: 354 итераций, 1.84 сек\n",
      "Среднее значение функции потерь на обучении 0.19072505019310504\n",
      "Среднее значение функции потерь на валидации 1.2602393687781641\n",
      "Новая лучшая модель!\n",
      "\n",
      "Эпоха 5\n",
      "Эпоха: 354 итераций, 1.85 сек\n",
      "Среднее значение функции потерь на обучении 0.13643512881155742\n",
      "Среднее значение функции потерь на валидации 1.200533981798059\n",
      "Новая лучшая модель!\n",
      "\n",
      "Эпоха 6\n",
      "Эпоха: 354 итераций, 2.45 сек\n",
      "Среднее значение функции потерь на обучении 0.10175190435585665\n",
      "Среднее значение функции потерь на валидации 1.154380388936754\n",
      "Новая лучшая модель!\n",
      "\n",
      "Эпоха 7\n",
      "Эпоха: 354 итераций, 1.80 сек\n",
      "Среднее значение функции потерь на обучении 0.07793659586880335\n",
      "Среднее значение функции потерь на валидации 1.1209689957105506\n",
      "Новая лучшая модель!\n",
      "\n",
      "Эпоха 8\n",
      "Эпоха: 354 итераций, 1.86 сек\n",
      "Среднее значение функции потерь на обучении 0.06176992184298355\n",
      "Среднее значение функции потерь на валидации 1.088665918778565\n",
      "Новая лучшая модель!\n",
      "\n",
      "Эпоха 9\n",
      "Эпоха: 354 итераций, 1.80 сек\n",
      "Среднее значение функции потерь на обучении 0.04921783814154102\n",
      "Среднее значение функции потерь на валидации 1.0575758400609938\n",
      "Новая лучшая модель!\n",
      "\n",
      "Эпоха 10\n",
      "Эпоха: 354 итераций, 2.70 сек\n",
      "Среднее значение функции потерь на обучении 0.04008685621711831\n",
      "Среднее значение функции потерь на валидации 1.0522246194087852\n",
      "Новая лучшая модель!\n",
      "\n",
      "Эпоха 11\n",
      "Эпоха: 354 итераций, 1.84 сек\n",
      "Среднее значение функции потерь на обучении 0.03305457422962296\n",
      "Среднее значение функции потерь на валидации 1.0252102052761336\n",
      "Новая лучшая модель!\n",
      "\n",
      "Эпоха 12\n",
      "Эпоха: 354 итераций, 1.79 сек\n",
      "Среднее значение функции потерь на обучении 0.027422144519701853\n",
      "Среднее значение функции потерь на валидации 1.023394585918572\n",
      "Новая лучшая модель!\n",
      "\n",
      "Эпоха 13\n",
      "Эпоха: 354 итераций, 4.81 сек\n",
      "Среднее значение функции потерь на обучении 0.023065844766458884\n",
      "Среднее значение функции потерь на валидации 1.0005393937482672\n",
      "Новая лучшая модель!\n",
      "\n",
      "Эпоха 14\n",
      "Эпоха: 354 итераций, 1.86 сек\n",
      "Среднее значение функции потерь на обучении 0.019530162231017976\n",
      "Среднее значение функции потерь на валидации 0.991558742851524\n",
      "Новая лучшая модель!\n",
      "\n",
      "Эпоха 15\n",
      "Эпоха: 354 итераций, 1.83 сек\n",
      "Среднее значение функции потерь на обучении 0.01649778921783265\n",
      "Среднее значение функции потерь на валидации 0.9758742970682807\n",
      "Новая лучшая модель!\n",
      "\n",
      "Эпоха 16\n",
      "Эпоха: 354 итераций, 1.88 сек\n",
      "Среднее значение функции потерь на обучении 0.013959765875591017\n",
      "Среднее значение функции потерь на валидации 0.9762104867120921\n",
      "\n",
      "Эпоха 17\n",
      "Эпоха: 354 итераций, 2.31 сек\n",
      "Среднее значение функции потерь на обучении 0.012367790914140642\n",
      "Среднее значение функции потерь на валидации 0.9614275693893433\n",
      "Новая лучшая модель!\n",
      "\n",
      "Эпоха 18\n",
      "Эпоха: 354 итераций, 2.14 сек\n",
      "Среднее значение функции потерь на обучении 0.010551444852677316\n",
      "Среднее значение функции потерь на валидации 0.9536911763124547\n",
      "Новая лучшая модель!\n",
      "\n",
      "Эпоха 19\n",
      "Эпоха: 354 итераций, 1.82 сек\n",
      "Среднее значение функции потерь на обучении 0.009276777067179607\n",
      "Среднее значение функции потерь на валидации 0.9553844440033881\n",
      "\n",
      "Эпоха 20\n",
      "Эпоха: 354 итераций, 1.82 сек\n",
      "Среднее значение функции потерь на обучении 0.008060244408615018\n",
      "Среднее значение функции потерь на валидации 0.9670786713644609\n",
      "\n",
      "Эпоха 21\n",
      "Эпоха: 354 итераций, 2.46 сек\n",
      "Среднее значение функции потерь на обучении 0.007328655131392728\n",
      "Среднее значение функции потерь на валидации 0.9403570354995081\n",
      "Новая лучшая модель!\n",
      "\n",
      "Эпоха 22\n",
      "Эпоха: 354 итераций, 1.83 сек\n",
      "Среднее значение функции потерь на обучении 0.006772754978951551\n",
      "Среднее значение функции потерь на валидации 0.9329050094899485\n",
      "Новая лучшая модель!\n",
      "\n",
      "Эпоха 23\n",
      "Эпоха: 354 итераций, 1.80 сек\n",
      "Среднее значение функции потерь на обучении 0.005589830888748316\n",
      "Среднее значение функции потерь на валидации 0.9329795992728007\n",
      "\n",
      "Эпоха 24\n",
      "Эпоха: 354 итераций, 1.84 сек\n",
      "Среднее значение функции потерь на обучении 0.005256624313730399\n",
      "Среднее значение функции потерь на валидации 0.969008594625077\n",
      "\n",
      "Эпоха 25\n",
      "Эпоха: 354 итераций, 2.24 сек\n",
      "Среднее значение функции потерь на обучении 0.004769215234167253\n",
      "Среднее значение функции потерь на валидации 0.9437578336919769\n",
      "\n",
      "Эпоха 26\n",
      "Эпоха: 354 итераций, 1.89 сек\n",
      "Среднее значение функции потерь на обучении 0.004408729193754505\n",
      "Среднее значение функции потерь на валидации 0.934337439047078\n",
      "\n",
      "Эпоха 27\n",
      "Эпоха: 354 итераций, 1.87 сек\n",
      "Среднее значение функции потерь на обучении 0.004121575345210258\n",
      "Среднее значение функции потерь на валидации 0.9609624641173977\n",
      "\n",
      "Эпоха 28\n",
      "Эпоха: 354 итераций, 1.86 сек\n",
      "Среднее значение функции потерь на обучении 0.004164917564044554\n",
      "Среднее значение функции потерь на валидации 0.9498718411235486\n",
      "Epoch 00029: reducing learning rate of group 0 to 5.0000e-02.\n",
      "\n",
      "Эпоха 29\n",
      "Эпоха: 354 итераций, 2.17 сек\n",
      "Среднее значение функции потерь на обучении 0.0032320615959138014\n",
      "Среднее значение функции потерь на валидации 0.9344257342360788\n",
      "\n",
      "Эпоха 30\n",
      "Эпоха: 354 итераций, 1.83 сек\n",
      "Среднее значение функции потерь на обучении 0.002957682864129475\n",
      "Среднее значение функции потерь на валидации 0.9424996973346855\n",
      "\n",
      "Эпоха 31\n",
      "Эпоха: 354 итераций, 1.86 сек\n",
      "Среднее значение функции потерь на обучении 0.002875190905340037\n",
      "Среднее значение функции потерь на валидации 0.9348593380744175\n",
      "\n",
      "Эпоха 32\n",
      "Эпоха: 354 итераций, 1.85 сек\n",
      "Среднее значение функции потерь на обучении 0.0026018176672422447\n",
      "Среднее значение функции потерь на валидации 0.9306285592206454\n",
      "Новая лучшая модель!\n",
      "\n",
      "Эпоха 33\n",
      "Эпоха: 354 итераций, 2.12 сек\n",
      "Среднее значение функции потерь на обучении 0.002713260274560659\n",
      "Среднее значение функции потерь на валидации 0.944723806012485\n",
      "\n",
      "Эпоха 34\n",
      "Эпоха: 354 итераций, 1.90 сек\n",
      "Среднее значение функции потерь на обучении 0.0025347671824235123\n",
      "Среднее значение функции потерь на валидации 0.9425565096533904\n",
      "\n",
      "Эпоха 35\n",
      "Эпоха: 354 итераций, 1.84 сек\n",
      "Среднее значение функции потерь на обучении 0.00261065953931249\n",
      "Среднее значение функции потерь на валидации 0.939933544877222\n",
      "\n",
      "Эпоха 36\n",
      "Эпоха: 354 итераций, 1.82 сек\n",
      "Среднее значение функции потерь на обучении 0.002410938330779002\n",
      "Среднее значение функции потерь на валидации 0.9386608075287383\n",
      "\n",
      "Эпоха 37\n",
      "Эпоха: 354 итераций, 2.01 сек\n",
      "Среднее значение функции потерь на обучении 0.002353835588402975\n",
      "Среднее значение функции потерь на валидации 0.9419002750162351\n",
      "\n",
      "Эпоха 38\n",
      "Эпоха: 354 итераций, 2.02 сек\n",
      "Среднее значение функции потерь на обучении 0.0023111344718701196\n",
      "Среднее значение функции потерь на валидации 0.9422700551606841\n",
      "Epoch 00039: reducing learning rate of group 0 to 2.5000e-02.\n",
      "\n",
      "Эпоха 39\n",
      "Эпоха: 354 итераций, 1.82 сек\n",
      "Среднее значение функции потерь на обучении 0.0019421957997706493\n",
      "Среднее значение функции потерь на валидации 0.9435689376067307\n",
      "\n",
      "Эпоха 40\n",
      "Эпоха: 354 итераций, 1.87 сек\n",
      "Среднее значение функции потерь на обучении 0.0018815775029459906\n",
      "Среднее значение функции потерь на валидации 0.9396207585173139\n",
      "\n",
      "Эпоха 41\n",
      "Эпоха: 354 итераций, 1.89 сек\n",
      "Среднее значение функции потерь на обучении 0.0018609727896936764\n",
      "Среднее значение функции потерь на валидации 0.9446339283959341\n",
      "\n",
      "Эпоха 42\n",
      "Эпоха: 354 итераций, 2.15 сек\n",
      "Среднее значение функции потерь на обучении 0.0018222738227311726\n",
      "Среднее значение функции потерь на валидации 0.9422184074834242\n",
      "\n",
      "Эпоха 43\n",
      "Эпоха: 354 итераций, 1.82 сек\n",
      "Среднее значение функции потерь на обучении 0.001788790990563312\n",
      "Среднее значение функции потерь на валидации 0.9431629846409216\n",
      "Модель не улучшилась за последние 10 эпох, прекращаем обучение\n"
     ]
    }
   ],
   "source": [
    "model = nn.Linear(UNIQUE_WORDS_N, UNIQUE_LABELS_N)\n",
    "\n",
    "scheduler = lambda optim: \\\n",
    "    torch.optim.lr_scheduler.ReduceLROnPlateau(optim, patience=5, factor=0.5, verbose=True)\n",
    "\n",
    "best_val_loss, best_model = train_eval_loop(model=model,\n",
    "                                            train_dataset=train_dataset,\n",
    "                                            val_dataset=test_dataset,\n",
    "                                            criterion=F.cross_entropy,\n",
    "                                            lr=1e-1,\n",
    "                                            epoch_n=200,\n",
    "                                            batch_size=32,\n",
    "                                            l2_reg_alpha=0,\n",
    "                                            lr_scheduler_ctor=scheduler)"
   ]
  },
  {
   "cell_type": "markdown",
   "metadata": {
    "id": "joAW58KuJehG"
   },
   "source": [
    "## Оценка качества"
   ]
  },
  {
   "cell_type": "code",
   "execution_count": null,
   "metadata": {
    "ExecuteTime": {
     "end_time": "2019-09-12T12:46:25.105663Z",
     "start_time": "2019-09-12T12:46:22.373012Z"
    },
    "colab": {
     "base_uri": "https://localhost:8080/"
    },
    "id": "iGRFLg1JJehG",
    "outputId": "e73564d8-7476-454f-96be-b631ddef9567"
   },
   "outputs": [
    {
     "name": "stderr",
     "output_type": "stream",
     "text": [
      "100%|██████████| 354/353.5625 [00:01<00:00, 219.94it/s]\n"
     ]
    },
    {
     "name": "stdout",
     "output_type": "stream",
     "text": [
      "Среднее значение функции потерь на обучении 0.0022322311997413635\n",
      "Доля верных ответов 0.9994696835778681\n",
      "\n"
     ]
    },
    {
     "name": "stderr",
     "output_type": "stream",
     "text": [
      "236it [00:01, 222.53it/s]                             "
     ]
    },
    {
     "name": "stdout",
     "output_type": "stream",
     "text": [
      "Среднее значение функции потерь на валидации 0.928941011428833\n",
      "Доля верных ответов 0.76805629314923\n"
     ]
    },
    {
     "name": "stderr",
     "output_type": "stream",
     "text": [
      "\n"
     ]
    }
   ],
   "source": [
    "train_pred = predict_with_model(best_model, train_dataset)\n",
    "\n",
    "train_loss = F.cross_entropy(torch.from_numpy(train_pred),\n",
    "                             torch.from_numpy(train_source['target']).long())\n",
    "\n",
    "print('Среднее значение функции потерь на обучении', float(train_loss))\n",
    "print('Доля верных ответов', accuracy_score(train_source['target'], train_pred.argmax(-1)))\n",
    "print()\n",
    "\n",
    "\n",
    "\n",
    "test_pred = predict_with_model(best_model, test_dataset)\n",
    "\n",
    "test_loss = F.cross_entropy(torch.from_numpy(test_pred),\n",
    "                            torch.from_numpy(test_source['target']).long())\n",
    "\n",
    "print('Среднее значение функции потерь на валидации', float(test_loss))\n",
    "print('Доля верных ответов', accuracy_score(test_source['target'], test_pred.argmax(-1)))"
   ]
  },
  {
   "cell_type": "markdown",
   "metadata": {
    "id": "RGW5LFkrJehG"
   },
   "source": [
    "# Альтернативная реализация на scikit-learn"
   ]
  },
  {
   "cell_type": "code",
   "execution_count": null,
   "metadata": {
    "ExecuteTime": {
     "end_time": "2019-09-12T12:46:31.791405Z",
     "start_time": "2019-09-12T12:46:25.107897Z"
    },
    "id": "LwjL6Jq5JehG",
    "scrolled": false
   },
   "outputs": [],
   "source": [
    "from sklearn.feature_extraction.text import TfidfVectorizer\n",
    "from sklearn.pipeline import Pipeline\n",
    "from sklearn.linear_model import LogisticRegression\n",
    "\n",
    "sklearn_pipeline = Pipeline((('vect', TfidfVectorizer(tokenizer=tokenize_text_simple_regex,\n",
    "                                                      max_df=MAX_DF,\n",
    "                                                      min_df=MIN_COUNT)),\n",
    "                             ('cls', LogisticRegression())))\n",
    "sklearn_pipeline.fit(train_source['data'], train_source['target']);"
   ]
  },
  {
   "cell_type": "markdown",
   "metadata": {
    "id": "FE4OcqqsJehH"
   },
   "source": [
    "## Оценка качества"
   ]
  },
  {
   "cell_type": "code",
   "execution_count": null,
   "metadata": {
    "ExecuteTime": {
     "end_time": "2019-09-12T12:46:35.454567Z",
     "start_time": "2019-09-12T12:46:31.792832Z"
    },
    "colab": {
     "base_uri": "https://localhost:8080/"
    },
    "id": "KreaZSf8JehH",
    "outputId": "592f5481-192c-4dc3-d0d4-89fe2dd330da"
   },
   "outputs": [
    {
     "name": "stdout",
     "output_type": "stream",
     "text": [
      "Среднее значение функции потерь на обучении 2.946002722556148\n",
      "Доля верных ответов 0.7435036238288846\n",
      "\n",
      "Среднее значение функции потерь на валидации 2.9819155276952167\n",
      "Доля верных ответов 0.356744556558683\n"
     ]
    }
   ],
   "source": [
    "sklearn_train_pred = sklearn_pipeline.predict_proba(train_source['data'])\n",
    "sklearn_train_loss = F.cross_entropy(torch.from_numpy(sklearn_train_pred),\n",
    "                                                 torch.from_numpy(train_source['target']))\n",
    "print('Среднее значение функции потерь на обучении', float(sklearn_train_loss))\n",
    "print('Доля верных ответов', accuracy_score(train_source['target'], sklearn_train_pred.argmax(-1)))\n",
    "print()\n",
    "\n",
    "sklearn_test_pred = sklearn_pipeline.predict_proba(test_source['data'])\n",
    "sklearn_test_loss = F.cross_entropy(torch.from_numpy(sklearn_test_pred),\n",
    "                                                torch.from_numpy(test_source['target']))\n",
    "print('Среднее значение функции потерь на валидации', float(sklearn_test_loss))\n",
    "print('Доля верных ответов', accuracy_score(test_source['target'], sklearn_test_pred.argmax(-1)))"
   ]
  },
  {
   "cell_type": "code",
   "execution_count": null,
   "metadata": {
    "id": "iDpSvG9KJehH"
   },
   "outputs": [],
   "source": []
  }
 ],
 "metadata": {
  "accelerator": "GPU",
  "colab": {
   "provenance": []
  },
  "gpuClass": "standard",
  "kernelspec": {
   "display_name": "Python 3 (ipykernel)",
   "language": "python",
   "name": "python3"
  },
  "language_info": {
   "codemirror_mode": {
    "name": "ipython",
    "version": 3
   },
   "file_extension": ".py",
   "mimetype": "text/x-python",
   "name": "python",
   "nbconvert_exporter": "python",
   "pygments_lexer": "ipython3",
   "version": "3.7.3"
  },
  "latex_envs": {
   "LaTeX_envs_menu_present": true,
   "autoclose": false,
   "autocomplete": true,
   "bibliofile": "biblio.bib",
   "cite_by": "apalike",
   "current_citInitial": 1,
   "eqLabelWithNumbers": true,
   "eqNumInitial": 1,
   "hotkeys": {
    "equation": "Ctrl-E",
    "itemize": "Ctrl-I"
   },
   "labels_anchors": false,
   "latex_user_defs": false,
   "report_style_numbering": false,
   "user_envs_cfg": false
  },
  "toc": {
   "base_numbering": 1,
   "nav_menu": {},
   "number_sections": true,
   "sideBar": true,
   "skip_h1_title": false,
   "title_cell": "Table of Contents",
   "title_sidebar": "Contents",
   "toc_cell": false,
   "toc_position": {},
   "toc_section_display": true,
   "toc_window_display": true
  }
 },
 "nbformat": 4,
 "nbformat_minor": 1
}
